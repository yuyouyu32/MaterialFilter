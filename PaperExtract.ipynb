{
 "cells": [
  {
   "cell_type": "code",
   "execution_count": 13,
   "metadata": {},
   "outputs": [],
   "source": [
    "import os\n",
    "from pdfminer.high_level import extract_text\n",
    "PaperPath = 'D:\\yuyouyu\\SHU\\HEA-REF'\n",
    "pdf_files = os.listdir(PaperPath)\n",
    "pdf_files = [os.path.join(PaperPath, pdf_file) for pdf_file in pdf_files]"
   ]
  },
  {
   "cell_type": "code",
   "execution_count": 14,
   "metadata": {},
   "outputs": [],
   "source": [
    "def save_text_to_file(file_path, text, save_dir):\n",
    "    # Get the file name from the file path\n",
    "    file_name = os.path.splitext(os.path.basename(file_path))[0] + '.txt'\n",
    "    \n",
    "    # Create the new directory if it does not exist\n",
    "    os.makedirs(save_dir, exist_ok=True)\n",
    "\n",
    "    # Create a new text file path in the save_dir directory\n",
    "    text_file_path = os.path.join(save_dir, file_name)\n",
    "    \n",
    "    # Open the text file and write the text into it\n",
    "    with open(text_file_path, 'w', encoding='utf-8') as text_file:\n",
    "        text_file.write(text)"
   ]
  },
  {
   "cell_type": "code",
   "execution_count": 17,
   "metadata": {},
   "outputs": [
    {
     "name": "stderr",
     "output_type": "stream",
     "text": [
      "The PDF <_io.BufferedReader name='D:\\\\yuyouyu\\\\SHU\\\\HEA-REF\\\\REF 106.pdf'> contains a metadata field indicating that it should not allow text extraction. Ignoring this field and proceeding. Use the check_extractable if you want to raise an error in this case\n",
      "The PDF <_io.BufferedReader name='D:\\\\yuyouyu\\\\SHU\\\\HEA-REF\\\\REF 143.pdf'> contains a metadata field indicating that it should not allow text extraction. Ignoring this field and proceeding. Use the check_extractable if you want to raise an error in this case\n"
     ]
    }
   ],
   "source": [
    "save_dir = 'D:\\yuyouyu\\SHU\\HEA-REF\\HEA-REF-TEXT'\n",
    "for file_path in pdf_files:\n",
    "    text = extract_text(file_path)\n",
    "    # Save the text to a .txt file in the specified directory\n",
    "    save_text_to_file(file_path, text[:5000], save_dir)"
   ]
  }
 ],
 "metadata": {
  "kernelspec": {
   "display_name": "base",
   "language": "python",
   "name": "python3"
  },
  "language_info": {
   "codemirror_mode": {
    "name": "ipython",
    "version": 3
   },
   "file_extension": ".py",
   "mimetype": "text/x-python",
   "name": "python",
   "nbconvert_exporter": "python",
   "pygments_lexer": "ipython3",
   "version": "3.10.9"
  }
 },
 "nbformat": 4,
 "nbformat_minor": 2
}
