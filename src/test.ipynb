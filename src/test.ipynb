{
 "cells": [
  {
   "cell_type": "code",
   "execution_count": 5,
   "metadata": {},
   "outputs": [
    {
     "name": "stdout",
     "output_type": "stream",
     "text": [
      "Weight Fraction: Al0.050406281577043376 Co0.2201952427875855 Cr0.19427580438337977 Fe0.20865665493738653 Ni0.16447446294523235 Cu0.059357578094060184 Mn0.10263397527531214 \n",
      "Atomic Fraction: Al0.1Co0.2Cr0.2Fe0.2Ni0.15Cu0.05Mn0.1\n",
      "Yang delta: 0.03768498058460159\n",
      "Yang omega: 4.028664705626517\n",
      "APE mean: -0.011148526233578804\n",
      "Radii local mismatch: 2.329999999999999\n",
      "Radii gamma: 1.0763013281507525\n",
      "Configuration entropy: -0.01546848281428434\n",
      "Atomic weight mean: 53.52812736\n",
      "Total weight: 5352.812736000001 amu\n",
      "Lambda entropy: -10.892087648194721\n",
      "Electronegativity delta: 0.06721483469601716\n",
      "Electronegativity local mismatch: 0.18072499999999997\n",
      "VEC mean: 8.65\n",
      "Mixing enthalpy: 6.619999999999999\n",
      "Mean cohesive energy: 4.0255\n",
      "Interant electrons: 34.0\n",
      "Interant s electrons: 2.0\n",
      "Interant p electrons: 1.0\n",
      "Interant d electrons: 31.0\n",
      "Interant f electrons: 0\n",
      "Shear modulus mean: 78.753\n",
      "Shear modulus delta: 0.31663283876320303\n",
      "Shear modulus local mismatch: 12.624899999999997\n",
      "Shear modulus strength model: -0.05556570578557092\n"
     ]
    }
   ],
   "source": [
    "import numpy as np\n",
    "from matminer.featurizers.composition.alloy import WenAlloys\n",
    "from pymatgen.core import Composition\n",
    "\n",
    "# 定义合金的组成\n",
    "composition = Composition(\"Al10Co20Cr20Fe20Ni15Cu5Mn10\")\n",
    "\n",
    "\n",
    "a = WenAlloys()\n",
    "# 计算特征\n",
    "features = a.featurize(comp=composition)\n",
    "\n",
    "\n",
    "# features中包含了许多元素属性，我们需要找到对应于Rmd, VEC和Hmix的属性\n",
    "# 通常，您需要检查ElementProperty的文档来了解每个特征的含义\n",
    "\n",
    "# 打印出所有的特征，以帮助确定Rmd, VEC和Hmix\n",
    "for feature, value in zip(a.feature_labels(), features):\n",
    "    print(f\"{feature}: {value}\")"
   ]
  }
 ],
 "metadata": {
  "kernelspec": {
   "display_name": "Python 3",
   "language": "python",
   "name": "python3"
  },
  "language_info": {
   "codemirror_mode": {
    "name": "ipython",
    "version": 3
   },
   "file_extension": ".py",
   "mimetype": "text/x-python",
   "name": "python",
   "nbconvert_exporter": "python",
   "pygments_lexer": "ipython3",
   "version": "3.8.10"
  }
 },
 "nbformat": 4,
 "nbformat_minor": 2
}
